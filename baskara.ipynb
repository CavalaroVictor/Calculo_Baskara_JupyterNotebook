{
 "cells": [
  {
   "cell_type": "code",
   "execution_count": null,
   "metadata": {},
   "outputs": [],
   "source": [
    "# Exercício 12\n",
    "# Faça um programa que calcule as raízes de uma equação do segundo grau, na forma ax2 + bx + c.\n",
    "#  O programa deverá pedir os valores de a, b e c e fazer as consistências, informando ao usuário nas seguintes situações:\n",
    "\n",
    "# Se o usuário informar o valor de A igual a zero, a equação não é do segundo grau e o programa não deve fazer pedir os demais valores, sendo encerrado;\n",
    "# Se o delta calculado for negativo, a equação não possui raizes reais. Informe ao usuário e encerre o programa;\n",
    "# Se o delta calculado for igual a zero a equação possui apenas uma raiz real; informe-a ao usuário;\n",
    "# Se o delta for positivo, a equação possui duas raiz reais; informe-as ao usuário;\n"
   ]
  },
  {
   "cell_type": "code",
   "execution_count": 2,
   "metadata": {},
   "outputs": [
    {
     "name": "stdout",
     "output_type": "stream",
     "text": [
      "Para os valores de 1.0 e 1.0, onde delta é equivalente a zero. \n",
      " Neste caso, temos apenas uma raíz real, de valor: -1.0.\n"
     ]
    }
   ],
   "source": [
    "num_a = float(input('\\n Digite o valor de a: '))\n",
    "\n",
    "# Se o usuário informar o valor de A igual a zero, a equação não é do segundo grau e o programa não deve fazer pedir os demais valores, sendo encerrado;\n",
    "if (num_a == 0):\n",
    "    print(f'O valor {num_a} inserido indica que está não é uma equação do segundo grau - ax^2 + b + c.')\n",
    "    exit()\n",
    "\n",
    "else: \n",
    "    num_b = float(input('\\n Digite o valor de b: '))\n",
    "    \n",
    "    num_c = float(input('\\n Digite o valor de c: '))\n",
    "\n",
    "    delta = 1\n",
    "    raiz_1 = 1\n",
    "    raiz_2 = 1\n",
    "\n",
    "    delta = ( num_b * num_b) -4 * (  num_a * num_c)\n",
    "\n",
    "# Se o delta calculado for negativo, a equação não possui raizes reais. Informe ao usuário e encerre o programa;\n",
    "    if (delta < 0):\n",
    "        # delta = (-4) * num_a * num_c\n",
    "        print(f'Para os valores de a:{num_a} e c:{num_c}, onde {num_b} é equivalente a zero, não há raízes reais.')\n",
    "        exit()\n",
    "        \n",
    "# Se o delta for positivo, a equação possui duas raiz reais; informe-as ao usuário;\n",
    "    elif ((delta > 0) or (num_a < 0) or (num_c < 0)):\n",
    "        raiz_1 = ((- num_b) + (2 / delta)) / (2 * num_a)\n",
    "        raiz_2 = ((- num_b) - (2 / delta)) / (2 * num_a) \n",
    "        print(f'Para os valores de a: {num_a}, b: {num_b} e c:{num_c} , onde delta é maior que zero. \\n O valor de delta é {delta}. \\n Os valores das raízes são: {raiz_1} e {raiz_2}')\n",
    "\n",
    "# Se o delta calculado for igual a zero a equação possui apenas uma raiz real; informe-a ao usuário;\n",
    "    else:\n",
    "        raiz_1 = (- num_b) / (2 * num_a) \n",
    "        print(f'Para os valores de a: {num_a}, b: {num_b} e c:{num_c} , delta é equivalente a zero. \\n Neste caso, temos apenas uma raíz real, de valor: {raiz_1}.')\n"
   ]
  }
 ],
 "metadata": {
  "interpreter": {
   "hash": "b3ba2566441a7c06988d0923437866b63cedc61552a5af99d1f4fb67d367b25f"
  },
  "kernelspec": {
   "display_name": "Python 3.9.12 ('base')",
   "language": "python",
   "name": "python3"
  },
  "language_info": {
   "codemirror_mode": {
    "name": "ipython",
    "version": 3
   },
   "file_extension": ".py",
   "mimetype": "text/x-python",
   "name": "python",
   "nbconvert_exporter": "python",
   "pygments_lexer": "ipython3",
   "version": "3.9.12"
  },
  "orig_nbformat": 4
 },
 "nbformat": 4,
 "nbformat_minor": 2
}
